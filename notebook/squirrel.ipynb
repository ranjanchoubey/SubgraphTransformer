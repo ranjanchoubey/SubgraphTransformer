{
 "cells": [
  {
   "cell_type": "code",
   "execution_count": 11,
   "metadata": {},
   "outputs": [
    {
     "name": "stdout",
     "output_type": "stream",
     "text": [
      "Done loading data from cached files.\n",
      "Squirrel Stats:\n",
      "Nodes: 5201\n",
      "Features: 2089\n",
      "Classes: 5\n",
      "Done loading data from cached files.\n",
      "\n",
      "Actor Stats:\n",
      "Nodes: 7600\n",
      "Features: 932\n",
      "Classes: 5\n",
      "Done loading data from cached files.\n",
      "\n",
      " Chameleon Dataset Statistics:\n",
      "Number of nodes: 2277\n",
      "Feature size: 2325\n",
      "Number of classes: 5\n",
      "Done loading data from cached files.\n",
      "\n",
      " Cornell Dataset  Statistics:\n",
      "Number of nodes: 183\n",
      "Feature size: 1703\n",
      "Number of classes: 5\n",
      "Done loading data from cached files.\n",
      "\n",
      " Texas Dataset  Statistics:\n",
      "Number of nodes: 183\n",
      "Feature size: 1703\n",
      "Number of classes: 5\n",
      "Downloading /home/ranjan/.dgl/wisconsin.zip from https://data.dgl.ai/dataset/wisconsin.zip...\n"
     ]
    },
    {
     "name": "stderr",
     "output_type": "stream",
     "text": [
      "/home/ranjan/.dgl/wisconsin.zip: 100%|██████████| 41.2k/41.2k [00:00<00:00, 119kB/s] "
     ]
    },
    {
     "name": "stdout",
     "output_type": "stream",
     "text": [
      "Extracting file to /home/ranjan/.dgl/wisconsin_5bfc48b0\n",
      "Done saving data into cached files.\n",
      "\n",
      " Wisconsin Dataset  Statistics:\n",
      "Number of nodes: 251\n",
      "Feature size: 1703\n",
      "Number of classes: 5\n"
     ]
    },
    {
     "name": "stderr",
     "output_type": "stream",
     "text": [
      "\n"
     ]
    }
   ],
   "source": [
    "import dgl.data\n",
    "import torch\n",
    "\n",
    "# Squirrel Dataset\n",
    "squirrel_data = dgl.data.SquirrelDataset()\n",
    "sg = squirrel_data[0]\n",
    "print(f\"Squirrel Stats:\")\n",
    "print(f\"Nodes: {sg.num_nodes()}\")\n",
    "print(f\"Features: {sg.ndata['feat'].shape[1]}\")\n",
    "print(f\"Classes: {len(torch.unique(sg.ndata['label']))}\")\n",
    "\n",
    "# Actor Dataset\n",
    "actor_data = dgl.data.ActorDataset()\n",
    "ag = actor_data[0]\n",
    "print(f\"\\nActor Stats:\")\n",
    "print(f\"Nodes: {ag.num_nodes()}\")\n",
    "print(f\"Features: {ag.ndata['feat'].shape[1]}\")\n",
    "print(f\"Classes: {len(torch.unique(ag.ndata['label']))}\")\n",
    "\n",
    "\n",
    "# Chameleon Dataset\n",
    "chameleon_data = dgl.data.ChameleonDataset()\n",
    "cg = chameleon_data[0]\n",
    "\n",
    "print(\"\\n Chameleon Dataset Statistics:\")\n",
    "print(f\"Number of nodes: {cg.num_nodes()}\")\n",
    "print(f\"Feature size: {cg.ndata['feat'].shape[1]}\")\n",
    "print(f\"Number of classes: {len(torch.unique(cg.ndata['label']))}\")\n",
    "\n",
    "\n",
    "# Cornell  Dataset\n",
    "cornell_data = dgl.data.CornellDataset()\n",
    "cr= cornell_data[0]\n",
    "\n",
    "print(\"\\n Cornell Dataset  Statistics:\")\n",
    "print(f\"Number of nodes: {cr.num_nodes()}\")\n",
    "print(f\"Feature size: {cr.ndata['feat'].shape[1]}\")\n",
    "print(f\"Number of classes: {len(torch.unique(cr.ndata['label']))}\")\n",
    "\n",
    "\n",
    "\n",
    "# Texas  Dataset\n",
    "texas_data = dgl.data.TexasDataset()\n",
    "tx= texas_data[0]\n",
    "\n",
    "print(\"\\n Texas Dataset  Statistics:\")\n",
    "print(f\"Number of nodes: {tx.num_nodes()}\")\n",
    "print(f\"Feature size: {tx.ndata['feat'].shape[1]}\")\n",
    "print(f\"Number of classes: {len(torch.unique(tx.ndata['label']))}\")\n",
    "\n",
    "\n",
    "# Wisconsin Dataset  \n",
    "texas_data = dgl.data.WisconsinDataset()\n",
    "tx= texas_data[0]\n",
    "\n",
    "print(\"\\n Wisconsin Dataset  Statistics:\")\n",
    "print(f\"Number of nodes: {tx.num_nodes()}\")\n",
    "print(f\"Feature size: {tx.ndata['feat'].shape[1]}\")\n",
    "print(f\"Number of classes: {len(torch.unique(tx.ndata['label']))}\")\n"
   ]
  }
 ],
 "metadata": {
  "kernelspec": {
   "display_name": "venv",
   "language": "python",
   "name": "python3"
  },
  "language_info": {
   "codemirror_mode": {
    "name": "ipython",
    "version": 3
   },
   "file_extension": ".py",
   "mimetype": "text/x-python",
   "name": "python",
   "nbconvert_exporter": "python",
   "pygments_lexer": "ipython3",
   "version": "3.10.12"
  }
 },
 "nbformat": 4,
 "nbformat_minor": 2
}
